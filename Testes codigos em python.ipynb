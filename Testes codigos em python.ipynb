{
  "nbformat": 4,
  "nbformat_minor": 0,
  "metadata": {
    "colab": {
      "provenance": [],
      "authorship_tag": "ABX9TyNJa9Doc7jxCVReVrDtdqYe"
    },
    "kernelspec": {
      "name": "python3",
      "display_name": "Python 3"
    },
    "language_info": {
      "name": "python"
    }
  },
  "cells": [
    {
      "cell_type": "code",
      "execution_count": 1,
      "metadata": {
        "colab": {
          "base_uri": "https://localhost:8080/"
        },
        "id": "RP5bYFhdrPLg",
        "outputId": "60c9f632-6196-423b-98c9-63dd48b4e490"
      },
      "outputs": [
        {
          "name": "stdout",
          "output_type": "stream",
          "text": [
            "Selecione a operação.\n",
            "1. Soma\n",
            "2. Subtração\n",
            "3. Multiplicação\n",
            "4. Divisão\n",
            "5. Sair\n",
            "Digite sua escolha(1/2/3/4/5):1\n",
            "Digite o primeiro número: 52\n",
            "Digite o segundo número: 32\n",
            "52.0 + 32.0 = 84.0\n",
            "Selecione a operação.\n",
            "1. Soma\n",
            "2. Subtração\n",
            "3. Multiplicação\n",
            "4. Divisão\n",
            "5. Sair\n",
            "Digite sua escolha(1/2/3/4/5):5\n"
          ]
        }
      ],
      "source": [
        "# prompt: gere um codigo em python de uma calculadora\n",
        "\n",
        "def soma(x, y):\n",
        "  \"\"\"Soma dois números.\"\"\"\n",
        "  return x + y\n",
        "\n",
        "\n",
        "def subtracao(x, y):\n",
        "  \"\"\"Subtrai dois números.\"\"\"\n",
        "  return x - y\n",
        "\n",
        "\n",
        "def multiplicacao(x, y):\n",
        "  \"\"\"Multiplica dois números.\"\"\"\n",
        "  return x * y\n",
        "\n",
        "\n",
        "def divisao(x, y):\n",
        "  \"\"\"Divide dois números.\"\"\"\n",
        "  if y == 0:\n",
        "    return \"Erro: Divisão por zero\"\n",
        "  return x / y\n",
        "\n",
        "\n",
        "while True:\n",
        "  print(\"Selecione a operação.\")\n",
        "  print(\"1. Soma\")\n",
        "  print(\"2. Subtração\")\n",
        "  print(\"3. Multiplicação\")\n",
        "  print(\"4. Divisão\")\n",
        "  print(\"5. Sair\")\n",
        "\n",
        "  escolha = input(\"Digite sua escolha(1/2/3/4/5):\")\n",
        "\n",
        "  if escolha in ('1', '2', '3', '4'):\n",
        "    try:\n",
        "      num1 = float(input(\"Digite o primeiro número: \"))\n",
        "      num2 = float(input(\"Digite o segundo número: \"))\n",
        "    except ValueError:\n",
        "      print(\"Entrada inválida. Por favor, digite números.\")\n",
        "      continue\n",
        "\n",
        "    if escolha == '1':\n",
        "      print(num1, \"+\", num2, \"=\", soma(num1, num2))\n",
        "\n",
        "    elif escolha == '2':\n",
        "      print(num1, \"-\", num2, \"=\", subtracao(num1, num2))\n",
        "\n",
        "    elif escolha == '3':\n",
        "      print(num1, \"*\", num2, \"=\", multiplicacao(num1, num2))\n",
        "\n",
        "    elif escolha == '4':\n",
        "      print(num1, \"/\", num2, \"=\", divisao(num1, num2))\n",
        "\n",
        "  elif escolha == '5':\n",
        "    break\n",
        "  else:\n",
        "    print(\"Opção inválida.\")\n"
      ]
    },
    {
      "cell_type": "code",
      "source": [
        "# prompt: gere um codigo em python que verificará o endereço ip do host linux\n",
        "\n",
        "import socket\n",
        "\n",
        "def get_host_ip():\n",
        "  \"\"\"Retorna o endereço IP do host.\"\"\"\n",
        "  try:\n",
        "    host_name = socket.gethostname()\n",
        "    host_ip = socket.gethostbyname(host_name)\n",
        "    return host_ip\n",
        "  except:\n",
        "    return \"Não foi possível obter o endereço IP.\"\n",
        "\n",
        "if __name__ == \"__main__\":\n",
        "  ip_address = get_host_ip()\n",
        "  print(\"Endereço IP do host:\", ip_address)\n"
      ],
      "metadata": {
        "colab": {
          "base_uri": "https://localhost:8080/"
        },
        "id": "k3lgTPOWtcX4",
        "outputId": "79dec988-006d-4895-b68e-aedb7f36d22a"
      },
      "execution_count": 2,
      "outputs": [
        {
          "output_type": "stream",
          "name": "stdout",
          "text": [
            "Endereço IP do host: 172.28.0.12\n"
          ]
        }
      ]
    },
    {
      "cell_type": "markdown",
      "source": [
        "codigo em python para verificar o endereço ip da maquina** *texto em itálico*"
      ],
      "metadata": {
        "id": "tuWjEmLEsn0f"
      }
    }
  ]
}